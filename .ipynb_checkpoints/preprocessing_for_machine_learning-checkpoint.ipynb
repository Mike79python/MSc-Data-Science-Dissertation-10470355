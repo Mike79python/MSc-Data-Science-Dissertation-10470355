{
 "cells": [
  {
   "cell_type": "markdown",
   "id": "768950b2",
   "metadata": {},
   "source": [
    "**Further data preprocessing for machine learning algorithms**\n",
    "---"
   ]
  },
  {
   "cell_type": "markdown",
   "id": "b68ecf42",
   "metadata": {},
   "source": [
    "---\n",
    "**Importing necessary libraries and datasets**"
   ]
  },
  {
   "cell_type": "code",
   "execution_count": 8,
   "id": "a9955e45",
   "metadata": {},
   "outputs": [],
   "source": [
    "import pandas as pd \n",
    "import numpy as np \n",
    "\n",
    "df = pd.read_csv('mdf7.csv')"
   ]
  },
  {
   "cell_type": "markdown",
   "id": "2d333f81",
   "metadata": {},
   "source": [
    "---\n",
    "**Needed modifications**"
   ]
  },
  {
   "cell_type": "code",
   "execution_count": 9,
   "id": "2facd871",
   "metadata": {},
   "outputs": [],
   "source": [
    "'''\n",
    "In this part of the code, the columns for driver and constructor wins and poles, are being modified \n",
    "automatically whenever a driver wins or takes pole position. The update will be visible in the next \n",
    "race of the win or pole position. \n",
    "'''\n",
    "\n",
    "df.rename(columns={'updated_wins': 'constructors_wins', 'updated_poles': 'constructors_poles'}, inplace=True)\n",
    "\n",
    "races = df[['season', 'circuit_id', 'round']].drop_duplicates().values\n",
    "\n",
    "for race in races:\n",
    "    season, circuit, rnd = race\n",
    "    winning_constructor = df[(df['season'] == season) & \n",
    "                             (df['circuit_id'] == circuit) & \n",
    "                             (df['round'] == rnd) & \n",
    "                             (df['Rank'] == 1)]['constructor_id'].values[0]\n",
    "    pole_constructor = df[(df['season'] == season) & \n",
    "                          (df['circuit_id'] == circuit) & \n",
    "                          (df['round'] == rnd) & \n",
    "                          (df['grid'] == 1)]['constructor_id'].values[0]\n",
    "    df.loc[(df['season'] == season) & \n",
    "           (df['circuit_id'] == circuit) & \n",
    "           (df['round'] == rnd) & \n",
    "           (df['constructor_id'] == winning_constructor), \n",
    "           'constructors_wins'] -=1\n",
    "    df.loc[(df['season'] == season) & \n",
    "           (df['circuit_id'] == circuit) & \n",
    "           (df['round'] == rnd) & \n",
    "           (df['constructor_id'] == pole_constructor), \n",
    "           'constructors_poles'] -= 1\n",
    "\n",
    "df.loc[df['Rank'] == 1, ['updated_driver_wins']] -= 1\n",
    "df.loc[df['grid'] == 1, ['updated_driver_poles']] -= 1    \n",
    "\n",
    "    "
   ]
  },
  {
   "cell_type": "code",
   "execution_count": 10,
   "id": "0ddf8c9f",
   "metadata": {},
   "outputs": [],
   "source": [
    "'''\n",
    "In this part of the code, we encode the variables that need one-hot encoding for machine learning\n",
    "purposes. Some further names modifcations take place. Moreover, columns that are directly correlated \n",
    "with the target variable are dropped to avoid any implications in the predictions' results. \n",
    "'''\n",
    "\n",
    "columns_to_encode = ['driver_id','circuit_id','grid', 'constructor_id', 'configuration', 'drs_zones', 'Engine Manufacturer']\n",
    "\n",
    "df1 = pd.get_dummies(df, columns=columns_to_encode)\n",
    "\n",
    "df1.rename(columns={'updated_driver_wins': 'driver_wins', 'updated_driver_poles': 'driver_poles'}, inplace=True)\n",
    "\n",
    "df1 = df1[df1['Finished'] != 0]\n",
    "\n",
    "df1.drop(['Finished','Points','circuit_country','year_of_birth', 'Laps', 'constructor_country_of_origin','driver_country_of_origin',\n",
    "         'Engine', 'Displacement', 'Cylinders', 'Valves'], axis = 1, inplace = True)\n",
    "\n",
    "\n"
   ]
  },
  {
   "cell_type": "code",
   "execution_count": 11,
   "id": "c4882230",
   "metadata": {},
   "outputs": [],
   "source": [
    "df1.to_csv('df1.csv', index = False)"
   ]
  }
 ],
 "metadata": {
  "kernelspec": {
   "display_name": "Python 3 (ipykernel)",
   "language": "python",
   "name": "python3"
  },
  "language_info": {
   "codemirror_mode": {
    "name": "ipython",
    "version": 3
   },
   "file_extension": ".py",
   "mimetype": "text/x-python",
   "name": "python",
   "nbconvert_exporter": "python",
   "pygments_lexer": "ipython3",
   "version": "3.9.16"
  }
 },
 "nbformat": 4,
 "nbformat_minor": 5
}
